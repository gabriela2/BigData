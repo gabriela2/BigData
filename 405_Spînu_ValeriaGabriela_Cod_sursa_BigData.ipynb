{
  "nbformat": 4,
  "nbformat_minor": 0,
  "metadata": {
    "colab": {
      "provenance": [],
      "collapsed_sections": []
    },
    "kernelspec": {
      "name": "python3",
      "display_name": "Python 3"
    },
    "language_info": {
      "name": "python"
    }
  },
  "cells": [
    {
      "cell_type": "markdown",
      "source": [
        "# PREDICȚIA TIPURILOR DE VIN SI CALITATII ACESTORA ÎN FUCȚIE DE SPECIFICAȚII\n",
        "\n",
        "STUDENT: Valeria - Gabriela Spînu\n",
        "\n",
        "GRUPA: 405"
      ],
      "metadata": {
        "id": "j9QMCI_hhPu7"
      }
    },
    {
      "cell_type": "code",
      "source": [
        "#Instalarea pachetului pyspark\n",
        "!pip install pyspark"
      ],
      "metadata": {
        "colab": {
          "base_uri": "https://localhost:8080/"
        },
        "id": "GpnuBMZBhaRf",
        "outputId": "341e1970-a99a-49bf-fb53-cd733ae5eab1"
      },
      "execution_count": 1,
      "outputs": [
        {
          "output_type": "stream",
          "name": "stdout",
          "text": [
            "Looking in indexes: https://pypi.org/simple, https://us-python.pkg.dev/colab-wheels/public/simple/\n",
            "Requirement already satisfied: pyspark in /usr/local/lib/python3.7/dist-packages (3.3.0)\n",
            "Requirement already satisfied: py4j==0.10.9.5 in /usr/local/lib/python3.7/dist-packages (from pyspark) (0.10.9.5)\n"
          ]
        }
      ]
    },
    {
      "cell_type": "code",
      "source": [
        "#Conectarea la Google drive\n",
        "from google.colab import drive\n",
        "drive.mount('/content/drive')"
      ],
      "metadata": {
        "colab": {
          "base_uri": "https://localhost:8080/"
        },
        "id": "udSOFXimjWlF",
        "outputId": "166ec930-1b6a-490c-8e97-71c49dad7851"
      },
      "execution_count": 2,
      "outputs": [
        {
          "output_type": "stream",
          "name": "stdout",
          "text": [
            "Drive already mounted at /content/drive; to attempt to forcibly remount, call drive.mount(\"/content/drive\", force_remount=True).\n"
          ]
        }
      ]
    },
    {
      "cell_type": "code",
      "source": [
        "#Importul pachetelor necesare rularii\n",
        "from pyspark.sql import SparkSession\n",
        "import pyspark.sql.functions as f\n",
        "import pyspark.sql.types as tp"
      ],
      "metadata": {
        "id": "7rgmWQiIjm66"
      },
      "execution_count": 3,
      "outputs": []
    },
    {
      "cell_type": "code",
      "source": [
        "#Crearea unui obiect SparkSession\n",
        "spark = SparkSession.builder.appName(\"Wine prediction\").getOrCreate()"
      ],
      "metadata": {
        "id": "MjBqyJHzlB9N"
      },
      "execution_count": 4,
      "outputs": []
    },
    {
      "cell_type": "markdown",
      "source": [
        "## **Pregatirea si curatarea datelor**"
      ],
      "metadata": {
        "id": "gh_Ge4QBpDTJ"
      }
    },
    {
      "cell_type": "code",
      "source": [
        "#Citirea si afisarea datelor utilizand parametru de inferSchema\n",
        "df_inferSchema = spark.read.csv(\"/content/drive/MyDrive/BigData/proiect/winequalityN.csv\",inferSchema=True, header=True)\n",
        "df_inferSchema.show()"
      ],
      "metadata": {
        "colab": {
          "base_uri": "https://localhost:8080/"
        },
        "id": "Q-Fr_vhqltf_",
        "outputId": "2c2388d6-4723-4a86-f2ef-f88105ebcb1b"
      },
      "execution_count": 5,
      "outputs": [
        {
          "output_type": "stream",
          "name": "stdout",
          "text": [
            "+-----+-------------+----------------+-----------+--------------+---------+-------------------+--------------------+-------+----+---------+-------+-------+\n",
            "| type|fixed acidity|volatile acidity|citric acid|residual sugar|chlorides|free sulfur dioxide|total sulfur dioxide|density|  pH|sulphates|alcohol|quality|\n",
            "+-----+-------------+----------------+-----------+--------------+---------+-------------------+--------------------+-------+----+---------+-------+-------+\n",
            "|white|          7.0|            0.27|       0.36|          20.7|    0.045|               45.0|               170.0|  1.001| 3.0|     0.45|    8.8|      6|\n",
            "|white|          6.3|             0.3|       0.34|           1.6|    0.049|               14.0|               132.0|  0.994| 3.3|     0.49|    9.5|      6|\n",
            "|white|          8.1|            0.28|        0.4|           6.9|     0.05|               30.0|                97.0| 0.9951|3.26|     0.44|   10.1|      6|\n",
            "|white|          7.2|            0.23|       0.32|           8.5|    0.058|               47.0|               186.0| 0.9956|3.19|      0.4|    9.9|      6|\n",
            "|white|          7.2|            0.23|       0.32|           8.5|    0.058|               47.0|               186.0| 0.9956|3.19|      0.4|    9.9|      6|\n",
            "|white|          8.1|            0.28|        0.4|           6.9|     0.05|               30.0|                97.0| 0.9951|3.26|     0.44|   10.1|      6|\n",
            "|white|          6.2|            0.32|       0.16|           7.0|    0.045|               30.0|               136.0| 0.9949|3.18|     0.47|    9.6|      6|\n",
            "|white|          7.0|            0.27|       0.36|          20.7|    0.045|               45.0|               170.0|  1.001| 3.0|     0.45|    8.8|      6|\n",
            "|white|          6.3|             0.3|       0.34|           1.6|    0.049|               14.0|               132.0|  0.994| 3.3|     0.49|    9.5|      6|\n",
            "|white|          8.1|            0.22|       0.43|           1.5|    0.044|               28.0|               129.0| 0.9938|3.22|     0.45|   11.0|      6|\n",
            "|white|          8.1|            0.27|       0.41|          1.45|    0.033|               11.0|                63.0| 0.9908|2.99|     0.56|   12.0|      5|\n",
            "|white|          8.6|            0.23|        0.4|           4.2|    0.035|               17.0|               109.0| 0.9947|3.14|     0.53|    9.7|      5|\n",
            "|white|          7.9|            0.18|       0.37|           1.2|     0.04|               16.0|                75.0|  0.992|3.18|     0.63|   10.8|      5|\n",
            "|white|          6.6|            0.16|        0.4|           1.5|    0.044|               48.0|               143.0| 0.9912|3.54|     0.52|   12.4|      7|\n",
            "|white|          8.3|            0.42|       0.62|         19.25|     0.04|               41.0|               172.0| 1.0002|2.98|     0.67|    9.7|      5|\n",
            "|white|          6.6|            0.17|       0.38|           1.5|    0.032|               28.0|               112.0| 0.9914|3.25|     0.55|   11.4|      7|\n",
            "|white|          6.3|            0.48|       0.04|           1.1|    0.046|               30.0|                99.0| 0.9928|3.24|     0.36|    9.6|      6|\n",
            "|white|         null|            0.66|       0.48|           1.2|    0.029|               29.0|                75.0| 0.9892|3.33|     0.39|   12.8|      8|\n",
            "|white|          7.4|            0.34|       0.42|           1.1|    0.033|               17.0|               171.0| 0.9917|3.12|     0.53|   11.3|      6|\n",
            "|white|          6.5|            0.31|       0.14|           7.5|    0.044|               34.0|               133.0| 0.9955|3.22|      0.5|    9.5|      5|\n",
            "+-----+-------------+----------------+-----------+--------------+---------+-------------------+--------------------+-------+----+---------+-------+-------+\n",
            "only showing top 20 rows\n",
            "\n"
          ]
        }
      ]
    },
    {
      "cell_type": "code",
      "source": [
        "#Afisarea schemei\n",
        "df_inferSchema.printSchema()"
      ],
      "metadata": {
        "colab": {
          "base_uri": "https://localhost:8080/"
        },
        "id": "CAHQQt1Dun9K",
        "outputId": "0ce47f92-3387-4aed-a12a-c896e976dafc"
      },
      "execution_count": 6,
      "outputs": [
        {
          "output_type": "stream",
          "name": "stdout",
          "text": [
            "root\n",
            " |-- type: string (nullable = true)\n",
            " |-- fixed acidity: double (nullable = true)\n",
            " |-- volatile acidity: double (nullable = true)\n",
            " |-- citric acid: double (nullable = true)\n",
            " |-- residual sugar: double (nullable = true)\n",
            " |-- chlorides: double (nullable = true)\n",
            " |-- free sulfur dioxide: double (nullable = true)\n",
            " |-- total sulfur dioxide: double (nullable = true)\n",
            " |-- density: double (nullable = true)\n",
            " |-- pH: double (nullable = true)\n",
            " |-- sulphates: double (nullable = true)\n",
            " |-- alcohol: double (nullable = true)\n",
            " |-- quality: integer (nullable = true)\n",
            "\n"
          ]
        }
      ]
    },
    {
      "cell_type": "code",
      "source": [
        "#Crearea schemei\n",
        "schema = tp.StructType([\n",
        "    tp.StructField(name = 'type', dataType= tp.StringType(), nullable=True),\n",
        "    tp.StructField(name = 'fixed_acidity', dataType= tp.FloatType(), nullable=True),\n",
        "    tp.StructField(name = 'volatile_acidity', dataType= tp.FloatType(), nullable=True),\n",
        "    tp.StructField(name = 'citric_acid', dataType= tp.FloatType(), nullable=True),\n",
        "    tp.StructField(name = 'residual_sugar', dataType= tp.FloatType(), nullable=True),\n",
        "    tp.StructField(name = 'chlorides', dataType= tp.FloatType(), nullable=True),\n",
        "    tp.StructField(name = 'free_sulfur_dioxide', dataType= tp.FloatType(), nullable=True),\n",
        "    tp.StructField(name = 'total_sulfur_dioxide', dataType= tp.FloatType(), nullable=True),\n",
        "    tp.StructField(name = 'density', dataType= tp.FloatType(), nullable=True),\n",
        "    tp.StructField(name = 'pH', dataType= tp.FloatType(), nullable=True),\n",
        "    tp.StructField(name = 'sulphates', dataType= tp.FloatType(), nullable=True),\n",
        "    tp.StructField(name = 'alcohol', dataType= tp.FloatType(), nullable=True),\n",
        "    tp.StructField(name = 'quality', dataType= tp.IntegerType(), nullable=True),\n",
        "\n",
        "])"
      ],
      "metadata": {
        "id": "YiysF2_i5uBA"
      },
      "execution_count": 7,
      "outputs": []
    },
    {
      "cell_type": "code",
      "source": [
        "#Citirea datelor folosind noua schema creata mai sus\n",
        "df = spark.read.csv(\"/content/drive/MyDrive/BigData/proiect/winequalityN.csv\",schema=schema, header=True)\n",
        "df.printSchema()"
      ],
      "metadata": {
        "colab": {
          "base_uri": "https://localhost:8080/"
        },
        "id": "-JFZZkb07ODP",
        "outputId": "5cf91078-360a-44ca-b92a-5bda11d48e44"
      },
      "execution_count": 8,
      "outputs": [
        {
          "output_type": "stream",
          "name": "stdout",
          "text": [
            "root\n",
            " |-- type: string (nullable = true)\n",
            " |-- fixed_acidity: float (nullable = true)\n",
            " |-- volatile_acidity: float (nullable = true)\n",
            " |-- citric_acid: float (nullable = true)\n",
            " |-- residual_sugar: float (nullable = true)\n",
            " |-- chlorides: float (nullable = true)\n",
            " |-- free_sulfur_dioxide: float (nullable = true)\n",
            " |-- total_sulfur_dioxide: float (nullable = true)\n",
            " |-- density: float (nullable = true)\n",
            " |-- pH: float (nullable = true)\n",
            " |-- sulphates: float (nullable = true)\n",
            " |-- alcohol: float (nullable = true)\n",
            " |-- quality: integer (nullable = true)\n",
            "\n"
          ]
        }
      ]
    },
    {
      "cell_type": "code",
      "source": [
        "#Numararea valorilor null din fiecare coloana\n",
        "df_null = df.agg(*[f.count(f.when(f.isnull(c),c)).alias(c) for c in df.columns])\n",
        "df_null.show()"
      ],
      "metadata": {
        "colab": {
          "base_uri": "https://localhost:8080/"
        },
        "id": "d_3E8O7avR52",
        "outputId": "1e31a348-ad5f-40d5-9c6b-aef0d6a47f8b"
      },
      "execution_count": 9,
      "outputs": [
        {
          "output_type": "stream",
          "name": "stdout",
          "text": [
            "+----+-------------+----------------+-----------+--------------+---------+-------------------+--------------------+-------+---+---------+-------+-------+\n",
            "|type|fixed_acidity|volatile_acidity|citric_acid|residual_sugar|chlorides|free_sulfur_dioxide|total_sulfur_dioxide|density| pH|sulphates|alcohol|quality|\n",
            "+----+-------------+----------------+-----------+--------------+---------+-------------------+--------------------+-------+---+---------+-------+-------+\n",
            "|   0|           10|               8|          3|             2|        2|                  0|                   0|      0|  9|        4|      0|      0|\n",
            "+----+-------------+----------------+-----------+--------------+---------+-------------------+--------------------+-------+---+---------+-------+-------+\n",
            "\n"
          ]
        }
      ]
    },
    {
      "cell_type": "code",
      "source": [
        "#Afisarea numarului de recorduri din dataset\n",
        "print((df.count(),len(df.columns)),\"- Numarul total de recorduri\")\n",
        "#Stergerea recordurilor care contin valori nule\n",
        "df_wo_null = df.na.drop()\n",
        "print((df_wo_null.count(),len(df_wo_null.columns)),\"- Numarul de recorduri care nu contin valori nule\")\n"
      ],
      "metadata": {
        "colab": {
          "base_uri": "https://localhost:8080/"
        },
        "id": "9GJWWUjvwmKm",
        "outputId": "e05c9998-db3a-4cc0-cc18-172a20b1083b"
      },
      "execution_count": 10,
      "outputs": [
        {
          "output_type": "stream",
          "name": "stdout",
          "text": [
            "(6497, 13) - Numarul total de recorduri\n",
            "(6463, 13) - Numarul de recorduri care nu contin valori nule\n"
          ]
        }
      ]
    },
    {
      "cell_type": "code",
      "source": [
        "#Afisarea statisticilor aferente setului de date\n",
        "df_wo_null.summary().show()"
      ],
      "metadata": {
        "colab": {
          "base_uri": "https://localhost:8080/"
        },
        "id": "4n0q7OBm39lz",
        "outputId": "b64299fe-be4d-43c8-ea3c-8dd63b3fa1a0"
      },
      "execution_count": 11,
      "outputs": [
        {
          "output_type": "stream",
          "name": "stdout",
          "text": [
            "+-------+-----+-----------------+-------------------+-------------------+-----------------+--------------------+-------------------+--------------------+--------------------+-------------------+-------------------+------------------+------------------+\n",
            "|summary| type|    fixed_acidity|   volatile_acidity|        citric_acid|   residual_sugar|           chlorides|free_sulfur_dioxide|total_sulfur_dioxide|             density|                 pH|          sulphates|           alcohol|           quality|\n",
            "+-------+-----+-----------------+-------------------+-------------------+-----------------+--------------------+-------------------+--------------------+--------------------+-------------------+-------------------+------------------+------------------+\n",
            "|  count| 6463|             6463|               6463|               6463|             6463|                6463|               6463|                6463|                6463|               6463|               6463|              6463|              6463|\n",
            "|   mean| null|7.217754916142849|0.33958920011962324| 0.3187575435210276|5.443957910658718|0.056056011259514316| 30.516865232863996|  115.69449172211047|  0.9946976773937697|  3.218332045295558| 0.5311496195738001|10.492825295042369| 5.818505338078292|\n",
            "| stddev| null|1.297913064851731|0.16463923932869953|0.14525227718075692|4.756851687027275|0.035075824725553185|   17.7588154999671|   56.52673616037642|0.003001444373663...|0.16064989975877242|0.14891340608589312|1.1931282395670102|0.8732861591770764|\n",
            "|    min|  red|              3.8|               0.08|                0.0|              0.6|               0.009|                1.0|                 6.0|             0.98711|               2.72|               0.22|               8.0|                 3|\n",
            "|    25%| null|              6.4|               0.23|               0.25|              1.8|               0.038|               17.0|                77.0|             0.99232|               3.11|               0.43|               9.5|                 5|\n",
            "|    50%| null|              7.0|               0.29|               0.31|              3.0|               0.047|               29.0|               118.0|             0.99489|               3.21|               0.51|              10.3|                 6|\n",
            "|    75%| null|              7.7|                0.4|               0.39|              8.1|               0.065|               41.0|               156.0|               0.997|               3.32|                0.6|              11.3|                 6|\n",
            "|    max|white|             15.9|               1.58|               1.66|             65.8|               0.611|              289.0|               440.0|             1.03898|               4.01|                2.0|              14.9|                 9|\n",
            "+-------+-----+-----------------+-------------------+-------------------+-----------------+--------------------+-------------------+--------------------+--------------------+-------------------+-------------------+------------------+------------------+\n",
            "\n"
          ]
        }
      ]
    },
    {
      "cell_type": "markdown",
      "source": [
        "## **Procesarea datelor**\n"
      ],
      "metadata": {
        "id": "U-LON2WACgsN"
      }
    },
    {
      "cell_type": "markdown",
      "source": [
        "### **Dataframes**"
      ],
      "metadata": {
        "id": "u-us3NHsVGL1"
      }
    },
    {
      "cell_type": "code",
      "source": [
        "# Sa se adauge o coloana in care sa se specifice categoria de vin pentru fiecare record\n",
        "df_wo_null = df_wo_null.withColumn(\"category\", f.expr(\"case when quality <=4 then 'Bad' when quality <=7 then 'Good' when quality>7 then 'Excellent' end\"))\n",
        "df_wo_null.show()"
      ],
      "metadata": {
        "colab": {
          "base_uri": "https://localhost:8080/"
        },
        "id": "vT0k5SXGCj6K",
        "outputId": "1194b247-eab3-4d22-edfa-ff7a5954963a"
      },
      "execution_count": 12,
      "outputs": [
        {
          "output_type": "stream",
          "name": "stdout",
          "text": [
            "+-----+-------------+----------------+-----------+--------------+---------+-------------------+--------------------+-------+----+---------+-------+-------+---------+\n",
            "| type|fixed_acidity|volatile_acidity|citric_acid|residual_sugar|chlorides|free_sulfur_dioxide|total_sulfur_dioxide|density|  pH|sulphates|alcohol|quality| category|\n",
            "+-----+-------------+----------------+-----------+--------------+---------+-------------------+--------------------+-------+----+---------+-------+-------+---------+\n",
            "|white|          7.0|            0.27|       0.36|          20.7|    0.045|               45.0|               170.0|  1.001| 3.0|     0.45|    8.8|      6|     Good|\n",
            "|white|          6.3|             0.3|       0.34|           1.6|    0.049|               14.0|               132.0|  0.994| 3.3|     0.49|    9.5|      6|     Good|\n",
            "|white|          8.1|            0.28|        0.4|           6.9|     0.05|               30.0|                97.0| 0.9951|3.26|     0.44|   10.1|      6|     Good|\n",
            "|white|          7.2|            0.23|       0.32|           8.5|    0.058|               47.0|               186.0| 0.9956|3.19|      0.4|    9.9|      6|     Good|\n",
            "|white|          7.2|            0.23|       0.32|           8.5|    0.058|               47.0|               186.0| 0.9956|3.19|      0.4|    9.9|      6|     Good|\n",
            "|white|          8.1|            0.28|        0.4|           6.9|     0.05|               30.0|                97.0| 0.9951|3.26|     0.44|   10.1|      6|     Good|\n",
            "|white|          6.2|            0.32|       0.16|           7.0|    0.045|               30.0|               136.0| 0.9949|3.18|     0.47|    9.6|      6|     Good|\n",
            "|white|          7.0|            0.27|       0.36|          20.7|    0.045|               45.0|               170.0|  1.001| 3.0|     0.45|    8.8|      6|     Good|\n",
            "|white|          6.3|             0.3|       0.34|           1.6|    0.049|               14.0|               132.0|  0.994| 3.3|     0.49|    9.5|      6|     Good|\n",
            "|white|          8.1|            0.22|       0.43|           1.5|    0.044|               28.0|               129.0| 0.9938|3.22|     0.45|   11.0|      6|     Good|\n",
            "|white|          8.1|            0.27|       0.41|          1.45|    0.033|               11.0|                63.0| 0.9908|2.99|     0.56|   12.0|      5|     Good|\n",
            "|white|          8.6|            0.23|        0.4|           4.2|    0.035|               17.0|               109.0| 0.9947|3.14|     0.53|    9.7|      5|     Good|\n",
            "|white|          7.9|            0.18|       0.37|           1.2|     0.04|               16.0|                75.0|  0.992|3.18|     0.63|   10.8|      5|     Good|\n",
            "|white|          6.6|            0.16|        0.4|           1.5|    0.044|               48.0|               143.0| 0.9912|3.54|     0.52|   12.4|      7|     Good|\n",
            "|white|          8.3|            0.42|       0.62|         19.25|     0.04|               41.0|               172.0| 1.0002|2.98|     0.67|    9.7|      5|     Good|\n",
            "|white|          6.6|            0.17|       0.38|           1.5|    0.032|               28.0|               112.0| 0.9914|3.25|     0.55|   11.4|      7|     Good|\n",
            "|white|          6.3|            0.48|       0.04|           1.1|    0.046|               30.0|                99.0| 0.9928|3.24|     0.36|    9.6|      6|     Good|\n",
            "|white|          7.4|            0.34|       0.42|           1.1|    0.033|               17.0|               171.0| 0.9917|3.12|     0.53|   11.3|      6|     Good|\n",
            "|white|          6.5|            0.31|       0.14|           7.5|    0.044|               34.0|               133.0| 0.9955|3.22|      0.5|    9.5|      5|     Good|\n",
            "|white|          6.2|            0.66|       0.48|           1.2|    0.029|               29.0|                75.0| 0.9892|3.33|     0.39|   12.8|      8|Excellent|\n",
            "+-----+-------------+----------------+-----------+--------------+---------+-------------------+--------------------+-------+----+---------+-------+-------+---------+\n",
            "only showing top 20 rows\n",
            "\n"
          ]
        }
      ]
    },
    {
      "cell_type": "code",
      "source": [
        "#Sa se afiseze primele 20 de inregistrari care au o cantitate de zahar de peste 10 iar alcoolul continut sa fie mai mare de 12. Se vor afisa doar atributele type, residual_sugar, alcohol si quality\n",
        "df_wo_null.filter(\"residual_sugar > 10 AND alcohol > 12\").select(['type','residual_sugar','alcohol','quality']).show()"
      ],
      "metadata": {
        "colab": {
          "base_uri": "https://localhost:8080/"
        },
        "id": "XG0ZkUybICVt",
        "outputId": "52d2ad12-8403-4df8-ec31-2ef7c942ada8"
      },
      "execution_count": 13,
      "outputs": [
        {
          "output_type": "stream",
          "name": "stdout",
          "text": [
            "+-----+--------------+-------+-------+\n",
            "| type|residual_sugar|alcohol|quality|\n",
            "+-----+--------------+-------+-------+\n",
            "|white|          14.0|   12.2|      7|\n",
            "|white|          14.5|   12.5|      8|\n",
            "|white|          12.8|   12.2|      8|\n",
            "|white|         15.75|   12.1|      6|\n",
            "|white|          11.0|   12.2|      6|\n",
            "|white|          10.6|   12.8|      6|\n",
            "|white|          11.1|   13.0|      6|\n",
            "|white|         10.55|   12.7|      6|\n",
            "|white|          10.2|   12.1|      7|\n",
            "|white|         12.75|   12.9|      6|\n",
            "|white|          14.5|   12.5|      5|\n",
            "|white|         11.25|   12.4|      6|\n",
            "|white|         11.25|   12.4|      6|\n",
            "|white|          11.3|   12.8|      7|\n",
            "|white|          15.5|   13.0|      7|\n",
            "|white|          15.5|   13.0|      7|\n",
            "|white|          15.5|   13.0|      7|\n",
            "|white|          12.9|   13.0|      6|\n",
            "|white|          10.8|   13.6|      6|\n",
            "|white|          10.2|   12.2|      7|\n",
            "+-----+--------------+-------+-------+\n",
            "only showing top 20 rows\n",
            "\n"
          ]
        }
      ]
    },
    {
      "cell_type": "code",
      "source": [
        "#Sa se determine cate inregistrari apartin fiecarei categorii\n",
        "df_wo_null.groupBy('category').count().show()"
      ],
      "metadata": {
        "colab": {
          "base_uri": "https://localhost:8080/"
        },
        "id": "MOUneYTdK3Wr",
        "outputId": "bc48702b-33da-4e76-9fd8-9f2bcdf33c95"
      },
      "execution_count": 14,
      "outputs": [
        {
          "output_type": "stream",
          "name": "stdout",
          "text": [
            "+---------+-----+\n",
            "| category|count|\n",
            "+---------+-----+\n",
            "|Excellent|  197|\n",
            "|     Good| 6022|\n",
            "|      Bad|  244|\n",
            "+---------+-----+\n",
            "\n"
          ]
        }
      ]
    },
    {
      "cell_type": "code",
      "source": [
        "#Sa se determine cate cate inregistrari apartin fiecarui tip de vinuri\n",
        "df_wo_null.groupBy('type').count().show()"
      ],
      "metadata": {
        "colab": {
          "base_uri": "https://localhost:8080/"
        },
        "id": "hcRWcdiWLhzZ",
        "outputId": "ae2ff5dc-1291-4b15-c5d2-19abbfdb2cc9"
      },
      "execution_count": 15,
      "outputs": [
        {
          "output_type": "stream",
          "name": "stdout",
          "text": [
            "+-----+-----+\n",
            "| type|count|\n",
            "+-----+-----+\n",
            "|white| 4870|\n",
            "|  red| 1593|\n",
            "+-----+-----+\n",
            "\n"
          ]
        }
      ]
    },
    {
      "cell_type": "code",
      "source": [
        "#Sa se afiseze minimul pentru fiecare coloana, in functie de coloana quality\n",
        "df_wo_null.groupBy('quality').min().show()"
      ],
      "metadata": {
        "colab": {
          "base_uri": "https://localhost:8080/"
        },
        "id": "dsdvqkmcSdJN",
        "outputId": "5cb5fcd3-9b52-48eb-8f22-24d74e4bb968"
      },
      "execution_count": 16,
      "outputs": [
        {
          "output_type": "stream",
          "name": "stdout",
          "text": [
            "+-------+------------------+---------------------+----------------+-------------------+--------------+------------------------+-------------------------+------------+-------+--------------+------------+------------+\n",
            "|quality|min(fixed_acidity)|min(volatile_acidity)|min(citric_acid)|min(residual_sugar)|min(chlorides)|min(free_sulfur_dioxide)|min(total_sulfur_dioxide)|min(density)|min(pH)|min(sulphates)|min(alcohol)|min(quality)|\n",
            "+-------+------------------+---------------------+----------------+-------------------+--------------+------------------------+-------------------------+------------+-------+--------------+------------+------------+\n",
            "|      6|               3.8|                 0.08|             0.0|                0.7|         0.015|                     1.0|                      6.0|     0.98758|   2.72|          0.23|         8.4|           6|\n",
            "|      3|               4.2|                 0.17|             0.0|                0.7|         0.022|                     3.0|                      9.0|      0.9911|   2.87|          0.28|         8.0|           3|\n",
            "|      5|               4.5|                  0.1|             0.0|                0.6|         0.009|                     2.0|                      6.0|     0.98722|   2.79|          0.27|         8.0|           5|\n",
            "|      9|               6.6|                 0.24|            0.29|                1.6|         0.018|                    24.0|                     85.0|     0.98965|    3.2|          0.36|        10.4|           9|\n",
            "|      4|               4.6|                 0.11|             0.0|                0.7|         0.013|                     3.0|                      7.0|      0.9892|   2.74|          0.25|         8.4|           4|\n",
            "|      8|               3.9|                 0.12|            0.03|                0.8|         0.014|                     3.0|                     12.0|     0.98713|   2.88|          0.25|         8.5|           8|\n",
            "|      7|               4.2|                 0.08|             0.0|                0.9|         0.012|                     3.0|                      7.0|     0.98711|   2.84|          0.22|         8.6|           7|\n",
            "+-------+------------------+---------------------+----------------+-------------------+--------------+------------------------+-------------------------+------------+-------+--------------+------------+------------+\n",
            "\n"
          ]
        }
      ]
    },
    {
      "cell_type": "code",
      "source": [
        "#Sa se determine inregistrarile care au total_sulfur_dioxide peste 150 si pH-ul peste 3\n",
        "df_wo_null.filter((df_wo_null['pH']>3) & (df_wo_null['total_sulfur_dioxide']> 150)).show()"
      ],
      "metadata": {
        "colab": {
          "base_uri": "https://localhost:8080/"
        },
        "id": "0xfdZ0zsN66R",
        "outputId": "5632b15b-2099-4347-8240-77d703ae23c7"
      },
      "execution_count": 17,
      "outputs": [
        {
          "output_type": "stream",
          "name": "stdout",
          "text": [
            "+-----+-------------+----------------+-----------+--------------+---------+-------------------+--------------------+-------+----+---------+-------+-------+--------+\n",
            "| type|fixed_acidity|volatile_acidity|citric_acid|residual_sugar|chlorides|free_sulfur_dioxide|total_sulfur_dioxide|density|  pH|sulphates|alcohol|quality|category|\n",
            "+-----+-------------+----------------+-----------+--------------+---------+-------------------+--------------------+-------+----+---------+-------+-------+--------+\n",
            "|white|          7.2|            0.23|       0.32|           8.5|    0.058|               47.0|               186.0| 0.9956|3.19|      0.4|    9.9|      6|    Good|\n",
            "|white|          7.2|            0.23|       0.32|           8.5|    0.058|               47.0|               186.0| 0.9956|3.19|      0.4|    9.9|      6|    Good|\n",
            "|white|          7.4|            0.34|       0.42|           1.1|    0.033|               17.0|               171.0| 0.9917|3.12|     0.53|   11.3|      6|    Good|\n",
            "|white|          7.6|            0.67|       0.14|           1.5|    0.074|               25.0|               168.0| 0.9937|3.05|     0.51|    9.3|      5|    Good|\n",
            "|white|          7.0|            0.25|       0.32|           9.0|    0.046|               56.0|               245.0| 0.9955|3.25|      0.5|   10.4|      6|    Good|\n",
            "|white|          5.8|            0.27|        0.2|         14.95|    0.044|               22.0|               179.0| 0.9962|3.37|     0.37|   10.2|      5|    Good|\n",
            "|white|          6.7|            0.23|       0.39|           2.5|    0.172|               63.0|               158.0| 0.9937|3.11|     0.36|    9.4|      6|    Good|\n",
            "|white|          6.7|            0.24|       0.39|           2.9|    0.173|               63.0|               157.0| 0.9937| 3.1|     0.34|    9.4|      6|    Good|\n",
            "|white|          7.0|            0.31|       0.26|           7.4|    0.069|               28.0|               160.0| 0.9954|3.13|     0.46|    9.8|      6|    Good|\n",
            "|white|          6.6|            0.24|       0.27|           1.4|    0.057|               33.0|               152.0| 0.9934|3.22|     0.56|    9.5|      6|    Good|\n",
            "|white|          6.7|            0.23|       0.26|           1.4|     0.06|               33.0|               154.0| 0.9934|3.24|     0.56|    9.5|      6|    Good|\n",
            "|white|          7.4|            0.18|       0.31|           1.4|    0.058|               38.0|               167.0| 0.9931|3.16|     0.53|   10.0|      7|    Good|\n",
            "|white|          6.2|            0.45|       0.26|           4.4|    0.063|               63.0|               206.0|  0.994|3.27|     0.52|    9.8|      4|     Bad|\n",
            "|white|          6.2|            0.46|       0.25|           4.4|    0.066|               62.0|               207.0| 0.9939|3.25|     0.52|    9.8|      5|    Good|\n",
            "|white|          7.0|            0.31|       0.26|           7.4|    0.069|               28.0|               160.0| 0.9954|3.13|     0.46|    9.8|      6|    Good|\n",
            "|white|          7.2|            0.19|       0.31|           1.6|    0.062|               31.0|               173.0| 0.9917|3.35|     0.44|   11.7|      6|    Good|\n",
            "|white|          6.9|            0.25|       0.35|           1.3|    0.039|               29.0|               191.0| 0.9908|3.13|     0.52|   11.0|      6|    Good|\n",
            "|white|          7.2|            0.21|       0.34|          11.9|    0.043|               37.0|               213.0| 0.9962|3.09|      0.5|    9.6|      6|    Good|\n",
            "|white|          7.0|            0.47|       0.07|           1.1|    0.035|               17.0|               151.0|  0.991|3.02|     0.34|   10.5|      5|    Good|\n",
            "|white|          6.7|            0.25|       0.13|           1.2|    0.041|               81.0|               174.0|  0.992|3.14|     0.42|    9.8|      5|    Good|\n",
            "+-----+-------------+----------------+-----------+--------------+---------+-------------------+--------------------+-------+----+---------+-------+-------+--------+\n",
            "only showing top 20 rows\n",
            "\n"
          ]
        }
      ]
    },
    {
      "cell_type": "code",
      "source": [
        "#Sa se determine inregistrarile care fac parte din categoria 'Excellent' si sunt rosii\n",
        "df_wo_null.filter((df_wo_null['type']=='red') & (df_wo_null['category']== 'Excellent')).show()"
      ],
      "metadata": {
        "colab": {
          "base_uri": "https://localhost:8080/"
        },
        "id": "UAK9nDPoQV6Q",
        "outputId": "a7de2c6a-3162-4d2a-d7fd-765700b0742f"
      },
      "execution_count": 18,
      "outputs": [
        {
          "output_type": "stream",
          "name": "stdout",
          "text": [
            "+----+-------------+----------------+-----------+--------------+---------+-------------------+--------------------+-------+----+---------+-------+-------+---------+\n",
            "|type|fixed_acidity|volatile_acidity|citric_acid|residual_sugar|chlorides|free_sulfur_dioxide|total_sulfur_dioxide|density|  pH|sulphates|alcohol|quality| category|\n",
            "+----+-------------+----------------+-----------+--------------+---------+-------------------+--------------------+-------+----+---------+-------+-------+---------+\n",
            "| red|          7.9|            0.35|       0.46|           3.6|    0.078|               15.0|                37.0| 0.9973|3.35|     0.86|   12.8|      8|Excellent|\n",
            "| red|         10.3|            0.32|       0.45|           6.4|    0.073|                5.0|                13.0| 0.9976|3.23|     0.82|   12.6|      8|Excellent|\n",
            "| red|          5.6|            0.85|       0.05|           1.4|    0.045|               12.0|                88.0| 0.9924|3.56|     0.82|   12.9|      8|Excellent|\n",
            "| red|         12.6|            0.31|       0.72|           2.2|    0.072|                6.0|                29.0| 0.9987|2.88|     0.82|    9.8|      8|Excellent|\n",
            "| red|         11.3|            0.62|       0.67|           5.2|    0.086|                6.0|                19.0| 0.9988|3.22|     0.69|   13.4|      8|Excellent|\n",
            "| red|          9.4|             0.3|       0.56|           2.8|     0.08|                6.0|                17.0| 0.9964|3.15|     0.92|   11.7|      8|Excellent|\n",
            "| red|         10.7|            0.35|       0.53|           2.6|     0.07|                5.0|                16.0| 0.9972|3.15|     0.65|   11.0|      8|Excellent|\n",
            "| red|         10.7|            0.35|       0.53|           2.6|     0.07|                5.0|                16.0| 0.9972|3.15|     0.65|   11.0|      8|Excellent|\n",
            "| red|          5.0|            0.42|       0.24|           2.0|     0.06|               19.0|                50.0| 0.9917|3.72|     0.74|   14.0|      8|Excellent|\n",
            "| red|          7.8|            0.57|       0.09|           2.3|    0.065|               34.0|                45.0|0.99417|3.46|     0.74|   12.7|      8|Excellent|\n",
            "| red|          9.1|             0.4|        0.5|           1.8|    0.071|                7.0|                16.0|0.99462|3.21|     0.69|   12.5|      8|Excellent|\n",
            "| red|         10.0|            0.26|       0.54|           1.9|    0.083|               42.0|                74.0|0.99451|2.98|     0.63|   11.8|      8|Excellent|\n",
            "| red|          7.9|            0.54|       0.34|           2.5|    0.076|                8.0|                17.0|0.99235| 3.2|     0.72|   13.1|      8|Excellent|\n",
            "| red|          8.6|            0.42|       0.39|           1.8|    0.068|                6.0|                12.0|0.99516|3.35|     0.69|   11.7|      8|Excellent|\n",
            "| red|          5.5|            0.49|       0.03|           1.8|    0.044|               28.0|                87.0| 0.9908| 3.5|     0.82|   14.0|      8|Excellent|\n",
            "| red|          7.2|            0.33|       0.33|           1.7|    0.061|                3.0|                13.0|  0.996|3.23|      1.1|   10.0|      8|Excellent|\n",
            "| red|          7.2|            0.38|       0.31|           2.0|    0.056|               15.0|                29.0|0.99472|3.23|     0.76|   11.3|      8|Excellent|\n",
            "| red|          7.4|            0.36|        0.3|           1.8|    0.074|               17.0|                24.0|0.99419|3.24|      0.7|   11.4|      8|Excellent|\n",
            "+----+-------------+----------------+-----------+--------------+---------+-------------------+--------------------+-------+----+---------+-------+-------+---------+\n",
            "\n"
          ]
        }
      ]
    },
    {
      "cell_type": "markdown",
      "source": [
        "### **Spark SQL**"
      ],
      "metadata": {
        "id": "mdUoOYWXU3tr"
      }
    },
    {
      "cell_type": "code",
      "source": [
        "#Crearea unei vizualizari temporare pentru folosirea comenzilor SQL\n",
        "df_wo_null.createOrReplaceTempView('wine')"
      ],
      "metadata": {
        "id": "1wGWDemeU8Wa"
      },
      "execution_count": 19,
      "outputs": []
    },
    {
      "cell_type": "code",
      "source": [
        "#Sa se afiseze descrescator primele 10 vinuri care contin cea mai mare cantitate de alcool\n",
        "output = spark.sql(\"SELECT * FROM wine ORDER BY alcohol DESC LIMIT 10\")\n",
        "output.show()"
      ],
      "metadata": {
        "colab": {
          "base_uri": "https://localhost:8080/"
        },
        "id": "ZS5oRNx5X0wX",
        "outputId": "eadd3118-b97f-454f-8c1c-8ade92f52606"
      },
      "execution_count": 20,
      "outputs": [
        {
          "output_type": "stream",
          "name": "stdout",
          "text": [
            "+-----+-------------+----------------+-----------+--------------+---------+-------------------+--------------------+-------+----+---------+-------+-------+---------+\n",
            "| type|fixed_acidity|volatile_acidity|citric_acid|residual_sugar|chlorides|free_sulfur_dioxide|total_sulfur_dioxide|density|  pH|sulphates|alcohol|quality| category|\n",
            "+-----+-------------+----------------+-----------+--------------+---------+-------------------+--------------------+-------+----+---------+-------+-------+---------+\n",
            "|  red|         15.9|            0.36|       0.65|           7.5|    0.096|               22.0|                71.0| 0.9976|2.98|     0.84|   14.9|      5|     Good|\n",
            "|white|          6.4|            0.35|       0.28|           1.6|    0.037|               31.0|               113.0|0.98779|3.12|      0.4|   14.2|      7|     Good|\n",
            "|white|          5.8|            0.61|       0.01|           8.4|    0.041|               31.0|               104.0| 0.9909|3.26|     0.72|  14.05|      7|     Good|\n",
            "|white|          4.9|            0.33|       0.31|           1.2|    0.016|               39.0|               150.0|0.98713|3.33|     0.59|   14.0|      8|Excellent|\n",
            "|  red|          5.2|            0.34|        0.0|           1.8|     0.05|               27.0|                63.0| 0.9916|3.68|     0.79|   14.0|      6|     Good|\n",
            "|white|          5.8|            0.29|       0.21|           2.6|    0.025|               12.0|               120.0| 0.9894|3.39|     0.79|   14.0|      7|     Good|\n",
            "|  red|          5.2|            0.34|        0.0|           1.8|     0.05|               27.0|                63.0| 0.9916|3.68|     0.79|   14.0|      6|     Good|\n",
            "|white|          5.8|            0.39|       0.47|           7.5|    0.027|               12.0|                88.0| 0.9907|3.38|     0.45|   14.0|      6|     Good|\n",
            "|  red|          8.8|            0.46|       0.45|           2.6|    0.065|                7.0|                18.0| 0.9947|3.32|     0.79|   14.0|      6|     Good|\n",
            "|  red|          5.0|            0.42|       0.24|           2.0|     0.06|               19.0|                50.0| 0.9917|3.72|     0.74|   14.0|      8|Excellent|\n",
            "+-----+-------------+----------------+-----------+--------------+---------+-------------------+--------------------+-------+----+---------+-------+-------+---------+\n",
            "\n"
          ]
        }
      ]
    },
    {
      "cell_type": "code",
      "source": [
        "#Sa se afiseze vinurile grupate dupa tip si categorie\n",
        "output = spark.sql(\"SELECT DISTINCT type, category, count(*) as count FROM wine GROUP BY type, category\").show()"
      ],
      "metadata": {
        "colab": {
          "base_uri": "https://localhost:8080/"
        },
        "id": "RLq5EbSoZUaE",
        "outputId": "57ce8d5b-aebe-46d4-df7a-449cc7898a83"
      },
      "execution_count": 21,
      "outputs": [
        {
          "output_type": "stream",
          "name": "stdout",
          "text": [
            "+-----+---------+-----+\n",
            "| type| category|count|\n",
            "+-----+---------+-----+\n",
            "|  red|Excellent|   18|\n",
            "|  red|     Good| 1513|\n",
            "|white|Excellent|  179|\n",
            "|white|      Bad|  182|\n",
            "|white|     Good| 4509|\n",
            "|  red|      Bad|   62|\n",
            "+-----+---------+-----+\n",
            "\n"
          ]
        }
      ]
    },
    {
      "cell_type": "code",
      "source": [
        "#Sa se afiseze primele 3 vinuri cu aciditatea cea mai mica care au o densitate peste 0.995\n",
        "output = spark.sql(\"SELECT * FROM wine WHERE density > 0.995 ORDER BY fixed_acidity ASC\").show(3)"
      ],
      "metadata": {
        "colab": {
          "base_uri": "https://localhost:8080/"
        },
        "id": "d_Xtpkufa2gR",
        "outputId": "6dda9a00-6d35-461b-c9ec-c557149e4184"
      },
      "execution_count": 22,
      "outputs": [
        {
          "output_type": "stream",
          "name": "stdout",
          "text": [
            "+-----+-------------+----------------+-----------+--------------+---------+-------------------+--------------------+-------+----+---------+-------+-------+--------+\n",
            "| type|fixed_acidity|volatile_acidity|citric_acid|residual_sugar|chlorides|free_sulfur_dioxide|total_sulfur_dioxide|density|  pH|sulphates|alcohol|quality|category|\n",
            "+-----+-------------+----------------+-----------+--------------+---------+-------------------+--------------------+-------+----+---------+-------+-------+--------+\n",
            "|white|          4.2|           0.215|       0.23|           5.1|    0.041|               64.0|               157.0|0.99688|3.42|     0.44|    8.0|      3|     Bad|\n",
            "|white|          4.9|           0.235|       0.27|         11.75|     0.03|               34.0|               118.0| 0.9954|3.07|      0.5|    9.4|      6|    Good|\n",
            "|white|          5.0|           0.235|       0.27|         11.75|     0.03|               34.0|               118.0| 0.9954|3.07|      0.5|    9.4|      6|    Good|\n",
            "+-----+-------------+----------------+-----------+--------------+---------+-------------------+--------------------+-------+----+---------+-------+-------+--------+\n",
            "only showing top 3 rows\n",
            "\n"
          ]
        }
      ]
    },
    {
      "cell_type": "code",
      "source": [
        "#Sa se afiseze media aritmetica, minimul si maximul de alcol pentru fiecare tip de vin\n",
        "output = spark.sql(\"SELECT type, AVG(alcohol), MIN(alcohol), MAX(alcohol) FROM wine GROUP BY type\").show()"
      ],
      "metadata": {
        "colab": {
          "base_uri": "https://localhost:8080/"
        },
        "id": "kaXNCXgecYrf",
        "outputId": "312a07f8-d92d-467c-8acd-274a28990494"
      },
      "execution_count": 23,
      "outputs": [
        {
          "output_type": "stream",
          "name": "stdout",
          "text": [
            "+-----+------------------+------------+------------+\n",
            "| type|      avg(alcohol)|min(alcohol)|max(alcohol)|\n",
            "+-----+------------------+------------+------------+\n",
            "|white|10.516772055968612|         8.0|        14.2|\n",
            "|  red|10.419617055424787|         8.4|        14.9|\n",
            "+-----+------------------+------------+------------+\n",
            "\n"
          ]
        }
      ]
    },
    {
      "cell_type": "code",
      "source": [
        "#Sa se afiseze vinurile care au un concentrat de cloruri peste medie, ordonandu-le descrescator dupa calitatea lor.\n",
        "output = spark.sql(\"SELECT * FROM wine WHERE chlorides > (SELECT AVG(chlorides) FROM wine) ORDER BY quality DESC\").show()"
      ],
      "metadata": {
        "colab": {
          "base_uri": "https://localhost:8080/"
        },
        "id": "Tz8JYitxdJ1f",
        "outputId": "f58ad536-4dcd-48b1-ee27-6efa93ba0ba6"
      },
      "execution_count": 24,
      "outputs": [
        {
          "output_type": "stream",
          "name": "stdout",
          "text": [
            "+-----+-------------+----------------+-----------+--------------+---------+-------------------+--------------------+-------+----+---------+-------+-------+---------+\n",
            "| type|fixed_acidity|volatile_acidity|citric_acid|residual_sugar|chlorides|free_sulfur_dioxide|total_sulfur_dioxide|density|  pH|sulphates|alcohol|quality| category|\n",
            "+-----+-------------+----------------+-----------+--------------+---------+-------------------+--------------------+-------+----+---------+-------+-------+---------+\n",
            "|white|          7.3|            0.17|       0.24|           8.1|    0.121|               32.0|               162.0|0.99508|3.17|     0.38|   10.4|      8|Excellent|\n",
            "|  red|          7.8|            0.57|       0.09|           2.3|    0.065|               34.0|                45.0|0.99417|3.46|     0.74|   12.7|      8|Excellent|\n",
            "|white|          7.3|            0.17|       0.24|           8.1|    0.121|               32.0|               162.0|0.99508|3.17|     0.38|   10.4|      8|Excellent|\n",
            "|white|          6.6|            0.23|        0.3|           4.6|     0.06|               29.0|               154.0|0.99142|3.23|     0.49|   12.2|      8|Excellent|\n",
            "|white|          6.3|            0.29|       0.28|           4.7|    0.059|               28.0|                81.0|0.99036|3.24|     0.56|   12.7|      8|Excellent|\n",
            "|white|          7.3|            0.19|       0.27|          13.9|    0.057|               45.0|               155.0|0.99807|2.94|     0.41|    8.8|      8|Excellent|\n",
            "|white|          7.3|            0.19|       0.27|          13.9|    0.057|               45.0|               155.0|0.99807|2.94|     0.41|    8.8|      8|Excellent|\n",
            "|white|          7.3|            0.19|       0.27|          13.9|    0.057|               45.0|               155.0|0.99807|2.94|     0.41|    8.8|      8|Excellent|\n",
            "|white|          7.3|            0.19|       0.27|          13.9|    0.057|               45.0|               155.0|0.99807|2.94|     0.41|    8.8|      8|Excellent|\n",
            "|white|          7.3|            0.19|       0.27|          13.9|    0.057|               45.0|               155.0|0.99807|2.94|     0.41|    8.8|      8|Excellent|\n",
            "|white|          7.3|            0.19|       0.27|          13.9|    0.057|               45.0|               155.0|0.99807|2.94|     0.41|    8.8|      8|Excellent|\n",
            "|white|          7.3|            0.19|       0.27|          13.9|    0.057|               45.0|               155.0|0.99807|2.94|     0.41|    8.8|      8|Excellent|\n",
            "|white|          7.3|            0.19|       0.27|          13.9|    0.057|               45.0|               155.0|0.99807|2.94|     0.41|    8.8|      8|Excellent|\n",
            "|  red|          7.9|            0.35|       0.46|           3.6|    0.078|               15.0|                37.0| 0.9973|3.35|     0.86|   12.8|      8|Excellent|\n",
            "|  red|         10.3|            0.32|       0.45|           6.4|    0.073|                5.0|                13.0| 0.9976|3.23|     0.82|   12.6|      8|Excellent|\n",
            "|  red|         12.6|            0.31|       0.72|           2.2|    0.072|                6.0|                29.0| 0.9987|2.88|     0.82|    9.8|      8|Excellent|\n",
            "|  red|         11.3|            0.62|       0.67|           5.2|    0.086|                6.0|                19.0| 0.9988|3.22|     0.69|   13.4|      8|Excellent|\n",
            "|  red|          9.4|             0.3|       0.56|           2.8|     0.08|                6.0|                17.0| 0.9964|3.15|     0.92|   11.7|      8|Excellent|\n",
            "|  red|         10.7|            0.35|       0.53|           2.6|     0.07|                5.0|                16.0| 0.9972|3.15|     0.65|   11.0|      8|Excellent|\n",
            "|  red|         10.7|            0.35|       0.53|           2.6|     0.07|                5.0|                16.0| 0.9972|3.15|     0.65|   11.0|      8|Excellent|\n",
            "+-----+-------------+----------------+-----------+--------------+---------+-------------------+--------------------+-------+----+---------+-------+-------+---------+\n",
            "only showing top 20 rows\n",
            "\n"
          ]
        }
      ]
    },
    {
      "cell_type": "code",
      "source": [
        "#Sa se afiseze cate inregistrari au acidul citric mai mare decat 0.8\n",
        "output = spark.sql(\"SELECT * FROM wine WHERE citric_acid > 0.8\").show()"
      ],
      "metadata": {
        "colab": {
          "base_uri": "https://localhost:8080/"
        },
        "id": "Br2698gpeAc3",
        "outputId": "8e39868f-343a-4b00-d819-f0a2dea40d2e"
      },
      "execution_count": 25,
      "outputs": [
        {
          "output_type": "stream",
          "name": "stdout",
          "text": [
            "+-----+-------------+----------------+-----------+--------------+---------+-------------------+--------------------+-------+----+---------+-------+-------+--------+\n",
            "| type|fixed_acidity|volatile_acidity|citric_acid|residual_sugar|chlorides|free_sulfur_dioxide|total_sulfur_dioxide|density|  pH|sulphates|alcohol|quality|category|\n",
            "+-----+-------------+----------------+-----------+--------------+---------+-------------------+--------------------+-------+----+---------+-------+-------+--------+\n",
            "|white|         10.2|            0.44|       0.88|           6.2|    0.049|               20.0|               124.0| 0.9968|2.99|     0.51|    9.9|      4|     Bad|\n",
            "|white|          7.4|             0.2|       1.66|           2.1|    0.022|               34.0|               113.0|0.99165|3.26|     0.55|   12.2|      6|    Good|\n",
            "|white|          8.2|           0.345|        1.0|          18.2|    0.047|               55.0|               205.0|0.99965|2.96|     0.43|    9.6|      5|    Good|\n",
            "|white|          6.9|            0.21|       0.81|           1.1|    0.137|               52.0|               123.0| 0.9932|3.03|     0.39|    9.2|      6|    Good|\n",
            "|white|          6.6|            0.19|       0.99|           1.2|    0.122|               45.0|               129.0| 0.9936|3.09|     0.31|    8.7|      6|    Good|\n",
            "|white|          7.5|             0.4|        1.0|          19.5|    0.041|               33.0|               148.0| 0.9977|3.24|     0.38|   12.0|      6|    Good|\n",
            "|white|          7.7|            0.49|        1.0|          19.6|     0.03|               28.0|               135.0| 0.9973|3.24|      0.4|   12.0|      6|    Good|\n",
            "|white|          6.5|            0.39|       0.81|           1.2|    0.217|               14.0|                74.0| 0.9936|3.08|     0.53|    9.5|      5|    Good|\n",
            "|white|          6.7|           0.325|       0.82|           1.2|    0.152|               49.0|               120.0|0.99312|2.99|     0.38|    9.2|      5|    Good|\n",
            "|white|          7.2|            0.21|        1.0|           1.1|    0.154|               46.0|               114.0| 0.9931|2.95|     0.43|    9.2|      6|    Good|\n",
            "|white|          7.4|            0.21|        0.8|          12.3|    0.038|               77.0|               183.0|0.99778|2.95|     0.48|    9.0|      5|    Good|\n",
            "|white|          7.4|            0.21|        0.8|          12.3|    0.038|               77.0|               183.0|0.99778|2.95|     0.48|    9.0|      5|    Good|\n",
            "|white|          7.6|            0.25|       1.23|           4.6|    0.035|               51.0|               294.0|0.99018|3.03|     0.43|   13.1|      6|    Good|\n",
            "|white|          7.7|            0.43|        1.0|         19.95|    0.032|               42.0|               164.0|0.99742|3.29|      0.5|   12.0|      6|    Good|\n",
            "|white|          7.2|            0.23|       0.82|           1.3|    0.149|               70.0|               109.0|0.99304|2.93|     0.42|    9.2|      6|    Good|\n",
            "|white|          7.1|            0.34|       0.86|           1.4|    0.174|               36.0|                99.0|0.99288|2.92|      0.5|    9.3|      5|    Good|\n",
            "|white|          6.3|             0.3|       0.91|           8.2|    0.034|               50.0|               199.0|0.99394|3.39|     0.49|   11.7|      6|    Good|\n",
            "|white|          6.3|             0.3|       0.91|           8.2|    0.034|               50.0|               199.0|0.99394|3.39|     0.49|   11.7|      6|    Good|\n",
            "|  red|          9.2|            0.52|        1.0|           3.4|     0.61|               32.0|                69.0| 0.9996|2.74|      2.0|    9.4|      4|     Bad|\n",
            "+-----+-------------+----------------+-----------+--------------+---------+-------------------+--------------------+-------+----+---------+-------+-------+--------+\n",
            "\n"
          ]
        }
      ]
    },
    {
      "cell_type": "markdown",
      "source": [
        "## **Machine learning**"
      ],
      "metadata": {
        "id": "mf0e0Ibv9R4b"
      }
    },
    {
      "cell_type": "markdown",
      "source": [
        "### **DecisionTreeClassifier**"
      ],
      "metadata": {
        "id": "_g40wCd-9fRl"
      }
    },
    {
      "cell_type": "code",
      "source": [
        "#importul pachetelor\n",
        "from pyspark.ml import Pipeline\n",
        "from pyspark.ml.classification import DecisionTreeClassifier\n",
        "from pyspark.ml.feature import StringIndexer, VectorIndexer, VectorAssembler\n",
        "from pyspark.ml.evaluation import MulticlassClassificationEvaluator"
      ],
      "metadata": {
        "id": "cItSvijV9dWE"
      },
      "execution_count": 26,
      "outputs": []
    },
    {
      "cell_type": "markdown",
      "source": [
        "Clasificarea vinurilor in funtie de calitate, folosind caracteristicile prezente"
      ],
      "metadata": {
        "id": "EgX6k6wmyVp2"
      }
    },
    {
      "cell_type": "code",
      "source": [
        "#Setarea dataframe-ului\n",
        "dataFrameQuality = df_wo_null\n",
        "\n",
        "#Transformarea coloanei type in label numeric\n",
        "typeIndexer = StringIndexer(inputCol=\"type\", outputCol=\"typeNum\").fit(dataFrameQuality)\n",
        "dataFrameQuality = typeIndexer.transform(dataFrameQuality)\n",
        "\n",
        "#Crearea vectorului de caracteristici\n",
        "dataFrameQuality = VectorAssembler(inputCols=['typeNum','fixed_acidity','volatile_acidity', 'citric_acid', 'residual_sugar','chlorides', \n",
        "                                       'free_sulfur_dioxide', 'total_sulfur_dioxide','density','pH','sulphates','alcohol',], outputCol=\"features\").transform(dataFrameQuality)\n",
        "\n",
        "\n",
        "#Identificarea caracteristicilor categoriale si indexarea lor\n",
        "featureIndexer = VectorIndexer(inputCol=\"features\", outputCol=\"indexedFeatures\", maxCategories=10).fit(dataFrameQuality)\n",
        "\n",
        "#Indexarea coloanei quality-label\n",
        "labelIndexer = StringIndexer(inputCol=\"quality\", outputCol=\"indexedLabel\").fit(dataFrameQuality)\n",
        "\n",
        "#Partitionarea datelor\n",
        "(trainingDataQuality, testDataQuality) = dataFrameQuality.randomSplit([0.8, 0.2])\n",
        "\n",
        "\n",
        "#Definirea modelului\n",
        "dt = DecisionTreeClassifier(labelCol=\"indexedLabel\", featuresCol=\"indexedFeatures\")\n",
        "\n",
        "#Crearea pipelineului\n",
        "pipeline = Pipeline(stages=[labelIndexer,featureIndexer, dt])\n",
        "\n",
        "#Antrenarea modelului cu ajutorul pipelineului\n",
        "model = pipeline.fit(trainingDataQuality)\n",
        "\n",
        "#Realizarea predictiilor\n",
        "predictions = model.transform(testDataQuality)\n",
        "\n",
        "#Selectarea coloanelor  \n",
        "predictions.select(\"prediction\", \"indexedLabel\", \"features\").show()\n",
        "\n",
        "#Evaluarea modelului\n",
        "evaluator = MulticlassClassificationEvaluator(labelCol=\"indexedLabel\", predictionCol=\"prediction\", metricName=\"accuracy\")\n",
        "accuracy = evaluator.evaluate(predictions)\n",
        "print(\"Test Error = %g \" % (1.0 - accuracy))\n",
        "\n",
        "#Afisarea unui sumar\n",
        "treeModel = model.stages[2]\n",
        "print(treeModel)"
      ],
      "metadata": {
        "colab": {
          "base_uri": "https://localhost:8080/"
        },
        "id": "rDKN_Qj5xvrE",
        "outputId": "3f00ddf2-4b02-40dd-a8fa-67c831dd5aa3"
      },
      "execution_count": 27,
      "outputs": [
        {
          "output_type": "stream",
          "name": "stdout",
          "text": [
            "+----------+------------+--------------------+\n",
            "|prediction|indexedLabel|            features|\n",
            "+----------+------------+--------------------+\n",
            "|       2.0|         0.0|[1.0,5.0,0.400000...|\n",
            "|       0.0|         3.0|[1.0,5.0,1.019999...|\n",
            "|       1.0|         1.0|[1.0,5.1999998092...|\n",
            "|       0.0|         0.0|[1.0,5.1999998092...|\n",
            "|       0.0|         1.0|[1.0,5.3000001907...|\n",
            "|       0.0|         0.0|[1.0,5.4000000953...|\n",
            "|       0.0|         1.0|[1.0,5.5999999046...|\n",
            "|       0.0|         1.0|[1.0,5.5999999046...|\n",
            "|       0.0|         0.0|[1.0,5.6999998092...|\n",
            "|       0.0|         0.0|[1.0,5.8000001907...|\n",
            "|       1.0|         1.0|[1.0,5.8000001907...|\n",
            "|       2.0|         0.0|[1.0,5.9000000953...|\n",
            "|       0.0|         0.0|[1.0,6.0,0.509999...|\n",
            "|       0.0|         0.0|[1.0,6.0,0.509999...|\n",
            "|       0.0|         0.0|[1.0,6.0,0.540000...|\n",
            "|       1.0|         1.0|[1.0,6.0999999046...|\n",
            "|       1.0|         2.0|[1.0,6.0999999046...|\n",
            "|       0.0|         0.0|[1.0,6.0999999046...|\n",
            "|       0.0|         2.0|[1.0,6.1999998092...|\n",
            "|       1.0|         1.0|[1.0,6.1999998092...|\n",
            "+----------+------------+--------------------+\n",
            "only showing top 20 rows\n",
            "\n",
            "Test Error = 0.466313 \n",
            "DecisionTreeClassificationModel: uid=DecisionTreeClassifier_087b0b0f452d, depth=5, numNodes=41, numClasses=7, numFeatures=12\n"
          ]
        }
      ]
    },
    {
      "cell_type": "markdown",
      "source": [
        "Clasificarea vinurilor in funtie de tip, folosind caracteristicile prezente"
      ],
      "metadata": {
        "id": "QEW_mpnl-rpc"
      }
    },
    {
      "cell_type": "code",
      "source": [
        "#Crearea vectorului de caracteristici\n",
        "dataFrame = VectorAssembler(inputCols=['fixed_acidity','volatile_acidity', 'citric_acid', 'residual_sugar','chlorides', \n",
        "                                       'free_sulfur_dioxide', 'total_sulfur_dioxide','density','pH','sulphates','alcohol','quality'], outputCol=\"features\").transform(df_wo_null)\n",
        "\n",
        "#Indexarea coloanei type-label\n",
        "labelIndexer = StringIndexer(inputCol=\"type\", outputCol=\"indexedLabel\").fit(dataFrame)\n",
        "\n",
        "#Identificarea caracteristicilor categoriale si indexarea lor\n",
        "featureIndexer = VectorIndexer(inputCol=\"features\", outputCol=\"indexedFeatures\", maxCategories=10).fit(dataFrame)\n",
        "\n",
        "#Partitionarea datelor\n",
        "(trainingData, testData) = dataFrame.randomSplit([0.8, 0.2])\n",
        "\n",
        "#Definirea modelului\n",
        "dt = DecisionTreeClassifier(labelCol=\"indexedLabel\", featuresCol=\"indexedFeatures\")\n",
        "\n",
        "#Crearea pipelineului\n",
        "pipeline = Pipeline(stages=[labelIndexer,featureIndexer, dt])\n",
        "\n",
        "#Antrenarea modelului cu ajutorul pipelineului\n",
        "model = pipeline.fit(trainingData)\n",
        "\n",
        "#Realizarea predictiilor\n",
        "predictions = model.transform(testData)\n",
        "\n",
        "#Selectarea coloanelor  \n",
        "predictions.select(\"prediction\", \"indexedLabel\", \"features\").show()\n",
        "\n",
        "#Evaluarea modelului\n",
        "evaluator = MulticlassClassificationEvaluator(labelCol=\"indexedLabel\", predictionCol=\"prediction\", metricName=\"accuracy\")\n",
        "accuracy = evaluator.evaluate(predictions)\n",
        "print(\"Test Error = %g \" % (1.0 - accuracy))\n",
        "\n",
        "#Afisarea unui sumar\n",
        "treeModel = model.stages[2]\n",
        "print(treeModel)"
      ],
      "metadata": {
        "colab": {
          "base_uri": "https://localhost:8080/"
        },
        "id": "Br8PVnKq-qQA",
        "outputId": "214132c7-d2d5-4e1f-dc99-927b3a4caaab"
      },
      "execution_count": 28,
      "outputs": [
        {
          "output_type": "stream",
          "name": "stdout",
          "text": [
            "+----------+------------+--------------------+\n",
            "|prediction|indexedLabel|            features|\n",
            "+----------+------------+--------------------+\n",
            "|       1.0|         1.0|[4.59999990463256...|\n",
            "|       1.0|         1.0|[4.69999980926513...|\n",
            "|       0.0|         1.0|[5.09999990463256...|\n",
            "|       1.0|         1.0|[5.40000009536743...|\n",
            "|       1.0|         1.0|[5.40000009536743...|\n",
            "|       0.0|         1.0|[5.59999990463256...|\n",
            "|       1.0|         1.0|[5.59999990463256...|\n",
            "|       0.0|         1.0|[5.80000019073486...|\n",
            "|       1.0|         1.0|[5.90000009536743...|\n",
            "|       1.0|         1.0|[6.0,0.5,0.0,1.39...|\n",
            "|       1.0|         1.0|[6.0,0.5,0.039999...|\n",
            "|       1.0|         1.0|[6.0,0.5099999904...|\n",
            "|       1.0|         1.0|[6.0,0.5799999833...|\n",
            "|       1.0|         1.0|[6.09999990463256...|\n",
            "|       1.0|         1.0|[6.19999980926513...|\n",
            "|       1.0|         1.0|[6.19999980926513...|\n",
            "|       1.0|         1.0|[6.19999980926513...|\n",
            "|       1.0|         1.0|[6.19999980926513...|\n",
            "|       1.0|         1.0|[6.19999980926513...|\n",
            "|       1.0|         1.0|[6.19999980926513...|\n",
            "+----------+------------+--------------------+\n",
            "only showing top 20 rows\n",
            "\n",
            "Test Error = 0.0209627 \n",
            "DecisionTreeClassificationModel: uid=DecisionTreeClassifier_82f5856db87a, depth=5, numNodes=45, numClasses=2, numFeatures=12\n"
          ]
        }
      ]
    },
    {
      "cell_type": "markdown",
      "source": [
        "### **RandomForestClassifier**"
      ],
      "metadata": {
        "id": "BXLdX_ahTCk7"
      }
    },
    {
      "cell_type": "code",
      "source": [
        "from pyspark.ml.classification import RandomForestClassifier\n",
        "from pyspark.ml.feature import IndexToString"
      ],
      "metadata": {
        "id": "5O2h2FaxXbOn"
      },
      "execution_count": 29,
      "outputs": []
    },
    {
      "cell_type": "code",
      "source": [
        "#Crearea vectorului de caracteristici\n",
        "dataframeRFC = df_wo_null\n",
        "dataframeRFC = VectorAssembler(inputCols=['fixed_acidity','volatile_acidity', 'citric_acid', 'residual_sugar','chlorides', \n",
        "                                       'free_sulfur_dioxide', 'total_sulfur_dioxide','density','pH','sulphates','alcohol','quality'], outputCol=\"features\").transform(dataframeRFC)\n",
        "\n",
        "#Indexarea coloanei type-label\n",
        "labelIndexerRFC = StringIndexer(inputCol=\"type\", outputCol=\"indexedLabel\").fit(dataframeRFC)\n",
        "\n",
        "#Identificarea caracteristicilor categoriale si indexarea lor\n",
        "featureIndexerRFC = VectorIndexer(inputCol=\"features\", outputCol=\"indexedFeatures\", maxCategories=12).fit(dataframeRFC)\n",
        "\n",
        "#Partitionarea datelor\n",
        "(trainingDataRFC, testDataRFC) = dataframeRFC.randomSplit([0.8, 0.2])\n",
        "\n",
        "#Definirea modelului\n",
        "rf = RandomForestClassifier(labelCol=\"indexedLabel\", featuresCol=\"indexedFeatures\", numTrees=10)\n",
        "\n",
        "# Conversia etichetelor indexate înapoi la etichetele originale\n",
        "labelConverter = IndexToString(inputCol=\"prediction\", outputCol=\"predictedLabel\", labels=labelIndexerRFC.labels)\n",
        "\n",
        "#Crearea pipelineului\n",
        "pipeline = Pipeline(stages=[labelIndexerRFC, featureIndexerRFC, rf, labelConverter])\n",
        "\n",
        "#Antrenarea pipeline-ului\n",
        "model = pipeline.fit(trainingDataRFC)\n",
        "\n",
        "#Realizarea predictiilor\n",
        "predictionsRFC = model.transform(testDataRFC)\n",
        "\n",
        "#Selectarea coloanelor\n",
        "predictionsRFC.select(\"predictedLabel\", \"type\", \"features\").show()\n",
        "\n",
        "#Evaluarea modelului\n",
        "evaluator = MulticlassClassificationEvaluator(labelCol=\"indexedLabel\", predictionCol=\"prediction\", metricName=\"accuracy\")\n",
        "accuracy = evaluator.evaluate(predictionsRFC)\n",
        "print(\"Test Error = %g\" % (1.0 - accuracy))\n",
        "\n",
        "#Afisarea unui sumar\n",
        "rfModel = model.stages[2]\n",
        "print(rfModel) \n"
      ],
      "metadata": {
        "colab": {
          "base_uri": "https://localhost:8080/"
        },
        "id": "uZjOb1BgXvS6",
        "outputId": "3eb452a9-286e-4a6b-8c68-b5a9e1cb344a"
      },
      "execution_count": 30,
      "outputs": [
        {
          "output_type": "stream",
          "name": "stdout",
          "text": [
            "+--------------+----+--------------------+\n",
            "|predictedLabel|type|            features|\n",
            "+--------------+----+--------------------+\n",
            "|         white| red|[5.0,1.0199999809...|\n",
            "|           red| red|[5.19999980926513...|\n",
            "|           red| red|[5.19999980926513...|\n",
            "|           red| red|[5.30000019073486...|\n",
            "|           red| red|[5.59999990463256...|\n",
            "|           red| red|[5.59999990463256...|\n",
            "|           red| red|[5.59999990463256...|\n",
            "|           red| red|[5.69999980926513...|\n",
            "|           red| red|[5.80000019073486...|\n",
            "|           red| red|[6.0,0.3100000023...|\n",
            "|           red| red|[6.0,0.5,0.0,1.39...|\n",
            "|           red| red|[6.0,0.5099999904...|\n",
            "|           red| red|[6.09999990463256...|\n",
            "|           red| red|[6.09999990463256...|\n",
            "|           red| red|[6.19999980926513...|\n",
            "|           red| red|[6.19999980926513...|\n",
            "|           red| red|[6.19999980926513...|\n",
            "|           red| red|[6.19999980926513...|\n",
            "|           red| red|[6.19999980926513...|\n",
            "|           red| red|[6.30000019073486...|\n",
            "+--------------+----+--------------------+\n",
            "only showing top 20 rows\n",
            "\n",
            "Test Error = 0.00460476\n",
            "RandomForestClassificationModel: uid=RandomForestClassifier_2cf58b3f5284, numTrees=10, numClasses=2, numFeatures=12\n"
          ]
        }
      ]
    },
    {
      "cell_type": "markdown",
      "source": [
        "### **LogisticRegression**"
      ],
      "metadata": {
        "id": "E84KDKI-hHsf"
      }
    },
    {
      "cell_type": "code",
      "source": [
        "from pyspark.ml.classification import LogisticRegression\n",
        "\n",
        "#Setarea dataframe-ului\n",
        "dataFrameLR = df_wo_null\n",
        "\n",
        "#Transformarea coloanei type in label numeric\n",
        "labelIndexer = StringIndexer(inputCol=\"type\", outputCol=\"label\").fit(dataFrameLR)\n",
        "dataFrameLR = labelIndexer.transform(dataFrameLR)\n",
        "\n",
        "#Crearea vectorului de caracteristici\n",
        "dataFrameLR = VectorAssembler(inputCols=['fixed_acidity','volatile_acidity', 'citric_acid', 'residual_sugar','chlorides', \n",
        "                                       'free_sulfur_dioxide', 'total_sulfur_dioxide','density','pH','sulphates','alcohol','quality'], outputCol=\"features\").transform(dataFrameLR)\n",
        "\n",
        "\n",
        "#Definirea modelului\n",
        "lr = LogisticRegression(maxIter=10)\n",
        "\n",
        "#Antrenarea modelului\n",
        "lrModel = lr.fit(dataFrameLR)\n",
        "\n",
        "# Afisarea coeficientilor si interceptorilor modelului\n",
        "print(\"Coefficients: \\n\" + str(lrModel.coefficientMatrix))\n",
        "print(\"\\nIntercept: \" + str(lrModel.interceptVector))\n",
        "\n",
        "\n",
        "\n",
        "trainingSummary = lrModel.summary\n",
        "print(\"\\nFalse positive rate by label:\")\n",
        "for i, rate in enumerate(trainingSummary.falsePositiveRateByLabel):\n",
        "    print(\"label %d: %s\" % (i, rate))\n",
        "\n",
        "print(\"\\nTrue positive rate by label:\")\n",
        "for i, rate in enumerate(trainingSummary.truePositiveRateByLabel):\n",
        "    print(\"label %d: %s\" % (i, rate))\n",
        "\n",
        "print(\"\\nTest Error = %g\" % (1.0 - trainingSummary.accuracy))\n",
        "print(\"\\nFPR= %s\" % (trainingSummary.weightedFalsePositiveRate))\n",
        "print(\"\\nTPR= %s\" % (trainingSummary.weightedTruePositiveRate))"
      ],
      "metadata": {
        "colab": {
          "base_uri": "https://localhost:8080/"
        },
        "id": "n04TuLdkq7vL",
        "outputId": "91ea064a-8eda-43ac-9dd5-c22365b6f797"
      },
      "execution_count": 31,
      "outputs": [
        {
          "output_type": "stream",
          "name": "stdout",
          "text": [
            "Coefficients: \n",
            "DenseMatrix([[ 6.81597507e-01,  9.32577850e+00, -1.99197392e+00,\n",
            "              -5.76216883e-01,  2.96878859e+01,  5.73849121e-02,\n",
            "              -6.04131216e-02,  9.94256776e+02,  3.95645315e+00,\n",
            "               5.66187457e+00,  7.01248516e-01,  3.77766947e-01]])\n",
            "\n",
            "Intercept: [-1019.3413373947726]\n",
            "\n",
            "False positive rate by label:\n",
            "label 0: 0.01820464532328939\n",
            "label 1: 0.003490759753593429\n",
            "\n",
            "True positive rate by label:\n",
            "label 0: 0.9965092402464065\n",
            "label 1: 0.9817953546767106\n",
            "\n",
            "Test Error = 0.00711744\n",
            "\n",
            "FPR= 0.01457796735446289\n",
            "\n",
            "TPR= 0.9928825622775801\n"
          ]
        }
      ]
    },
    {
      "cell_type": "markdown",
      "source": [
        "## **Deep learning**"
      ],
      "metadata": {
        "id": "-m6gzsxh2OMa"
      }
    },
    {
      "cell_type": "code",
      "source": [
        "#importul librariilor\n",
        "import numpy as np\n",
        "import pandas as pd"
      ],
      "metadata": {
        "id": "XaxQECrmA6CA"
      },
      "execution_count": 32,
      "outputs": []
    },
    {
      "cell_type": "code",
      "source": [
        "#citirea datelor\n",
        "df = pd.read_csv(\"/content/drive/MyDrive/BigData/proiect/winequalityN.csv\")\n",
        "df.head()"
      ],
      "metadata": {
        "colab": {
          "base_uri": "https://localhost:8080/",
          "height": 206
        },
        "id": "Duh2VV-OBGhf",
        "outputId": "5614e894-6275-4e54-fbff-656a9c73a09a"
      },
      "execution_count": 33,
      "outputs": [
        {
          "output_type": "execute_result",
          "data": {
            "text/plain": [
              "    type  fixed acidity  volatile acidity  citric acid  residual sugar  \\\n",
              "0  white            7.0              0.27         0.36            20.7   \n",
              "1  white            6.3              0.30         0.34             1.6   \n",
              "2  white            8.1              0.28         0.40             6.9   \n",
              "3  white            7.2              0.23         0.32             8.5   \n",
              "4  white            7.2              0.23         0.32             8.5   \n",
              "\n",
              "   chlorides  free sulfur dioxide  total sulfur dioxide  density    pH  \\\n",
              "0      0.045                 45.0                 170.0   1.0010  3.00   \n",
              "1      0.049                 14.0                 132.0   0.9940  3.30   \n",
              "2      0.050                 30.0                  97.0   0.9951  3.26   \n",
              "3      0.058                 47.0                 186.0   0.9956  3.19   \n",
              "4      0.058                 47.0                 186.0   0.9956  3.19   \n",
              "\n",
              "   sulphates  alcohol  quality  \n",
              "0       0.45      8.8        6  \n",
              "1       0.49      9.5        6  \n",
              "2       0.44     10.1        6  \n",
              "3       0.40      9.9        6  \n",
              "4       0.40      9.9        6  "
            ],
            "text/html": [
              "\n",
              "  <div id=\"df-88eb61bf-426e-4841-861b-71bf294bde8c\">\n",
              "    <div class=\"colab-df-container\">\n",
              "      <div>\n",
              "<style scoped>\n",
              "    .dataframe tbody tr th:only-of-type {\n",
              "        vertical-align: middle;\n",
              "    }\n",
              "\n",
              "    .dataframe tbody tr th {\n",
              "        vertical-align: top;\n",
              "    }\n",
              "\n",
              "    .dataframe thead th {\n",
              "        text-align: right;\n",
              "    }\n",
              "</style>\n",
              "<table border=\"1\" class=\"dataframe\">\n",
              "  <thead>\n",
              "    <tr style=\"text-align: right;\">\n",
              "      <th></th>\n",
              "      <th>type</th>\n",
              "      <th>fixed acidity</th>\n",
              "      <th>volatile acidity</th>\n",
              "      <th>citric acid</th>\n",
              "      <th>residual sugar</th>\n",
              "      <th>chlorides</th>\n",
              "      <th>free sulfur dioxide</th>\n",
              "      <th>total sulfur dioxide</th>\n",
              "      <th>density</th>\n",
              "      <th>pH</th>\n",
              "      <th>sulphates</th>\n",
              "      <th>alcohol</th>\n",
              "      <th>quality</th>\n",
              "    </tr>\n",
              "  </thead>\n",
              "  <tbody>\n",
              "    <tr>\n",
              "      <th>0</th>\n",
              "      <td>white</td>\n",
              "      <td>7.0</td>\n",
              "      <td>0.27</td>\n",
              "      <td>0.36</td>\n",
              "      <td>20.7</td>\n",
              "      <td>0.045</td>\n",
              "      <td>45.0</td>\n",
              "      <td>170.0</td>\n",
              "      <td>1.0010</td>\n",
              "      <td>3.00</td>\n",
              "      <td>0.45</td>\n",
              "      <td>8.8</td>\n",
              "      <td>6</td>\n",
              "    </tr>\n",
              "    <tr>\n",
              "      <th>1</th>\n",
              "      <td>white</td>\n",
              "      <td>6.3</td>\n",
              "      <td>0.30</td>\n",
              "      <td>0.34</td>\n",
              "      <td>1.6</td>\n",
              "      <td>0.049</td>\n",
              "      <td>14.0</td>\n",
              "      <td>132.0</td>\n",
              "      <td>0.9940</td>\n",
              "      <td>3.30</td>\n",
              "      <td>0.49</td>\n",
              "      <td>9.5</td>\n",
              "      <td>6</td>\n",
              "    </tr>\n",
              "    <tr>\n",
              "      <th>2</th>\n",
              "      <td>white</td>\n",
              "      <td>8.1</td>\n",
              "      <td>0.28</td>\n",
              "      <td>0.40</td>\n",
              "      <td>6.9</td>\n",
              "      <td>0.050</td>\n",
              "      <td>30.0</td>\n",
              "      <td>97.0</td>\n",
              "      <td>0.9951</td>\n",
              "      <td>3.26</td>\n",
              "      <td>0.44</td>\n",
              "      <td>10.1</td>\n",
              "      <td>6</td>\n",
              "    </tr>\n",
              "    <tr>\n",
              "      <th>3</th>\n",
              "      <td>white</td>\n",
              "      <td>7.2</td>\n",
              "      <td>0.23</td>\n",
              "      <td>0.32</td>\n",
              "      <td>8.5</td>\n",
              "      <td>0.058</td>\n",
              "      <td>47.0</td>\n",
              "      <td>186.0</td>\n",
              "      <td>0.9956</td>\n",
              "      <td>3.19</td>\n",
              "      <td>0.40</td>\n",
              "      <td>9.9</td>\n",
              "      <td>6</td>\n",
              "    </tr>\n",
              "    <tr>\n",
              "      <th>4</th>\n",
              "      <td>white</td>\n",
              "      <td>7.2</td>\n",
              "      <td>0.23</td>\n",
              "      <td>0.32</td>\n",
              "      <td>8.5</td>\n",
              "      <td>0.058</td>\n",
              "      <td>47.0</td>\n",
              "      <td>186.0</td>\n",
              "      <td>0.9956</td>\n",
              "      <td>3.19</td>\n",
              "      <td>0.40</td>\n",
              "      <td>9.9</td>\n",
              "      <td>6</td>\n",
              "    </tr>\n",
              "  </tbody>\n",
              "</table>\n",
              "</div>\n",
              "      <button class=\"colab-df-convert\" onclick=\"convertToInteractive('df-88eb61bf-426e-4841-861b-71bf294bde8c')\"\n",
              "              title=\"Convert this dataframe to an interactive table.\"\n",
              "              style=\"display:none;\">\n",
              "        \n",
              "  <svg xmlns=\"http://www.w3.org/2000/svg\" height=\"24px\"viewBox=\"0 0 24 24\"\n",
              "       width=\"24px\">\n",
              "    <path d=\"M0 0h24v24H0V0z\" fill=\"none\"/>\n",
              "    <path d=\"M18.56 5.44l.94 2.06.94-2.06 2.06-.94-2.06-.94-.94-2.06-.94 2.06-2.06.94zm-11 1L8.5 8.5l.94-2.06 2.06-.94-2.06-.94L8.5 2.5l-.94 2.06-2.06.94zm10 10l.94 2.06.94-2.06 2.06-.94-2.06-.94-.94-2.06-.94 2.06-2.06.94z\"/><path d=\"M17.41 7.96l-1.37-1.37c-.4-.4-.92-.59-1.43-.59-.52 0-1.04.2-1.43.59L10.3 9.45l-7.72 7.72c-.78.78-.78 2.05 0 2.83L4 21.41c.39.39.9.59 1.41.59.51 0 1.02-.2 1.41-.59l7.78-7.78 2.81-2.81c.8-.78.8-2.07 0-2.86zM5.41 20L4 18.59l7.72-7.72 1.47 1.35L5.41 20z\"/>\n",
              "  </svg>\n",
              "      </button>\n",
              "      \n",
              "  <style>\n",
              "    .colab-df-container {\n",
              "      display:flex;\n",
              "      flex-wrap:wrap;\n",
              "      gap: 12px;\n",
              "    }\n",
              "\n",
              "    .colab-df-convert {\n",
              "      background-color: #E8F0FE;\n",
              "      border: none;\n",
              "      border-radius: 50%;\n",
              "      cursor: pointer;\n",
              "      display: none;\n",
              "      fill: #1967D2;\n",
              "      height: 32px;\n",
              "      padding: 0 0 0 0;\n",
              "      width: 32px;\n",
              "    }\n",
              "\n",
              "    .colab-df-convert:hover {\n",
              "      background-color: #E2EBFA;\n",
              "      box-shadow: 0px 1px 2px rgba(60, 64, 67, 0.3), 0px 1px 3px 1px rgba(60, 64, 67, 0.15);\n",
              "      fill: #174EA6;\n",
              "    }\n",
              "\n",
              "    [theme=dark] .colab-df-convert {\n",
              "      background-color: #3B4455;\n",
              "      fill: #D2E3FC;\n",
              "    }\n",
              "\n",
              "    [theme=dark] .colab-df-convert:hover {\n",
              "      background-color: #434B5C;\n",
              "      box-shadow: 0px 1px 3px 1px rgba(0, 0, 0, 0.15);\n",
              "      filter: drop-shadow(0px 1px 2px rgba(0, 0, 0, 0.3));\n",
              "      fill: #FFFFFF;\n",
              "    }\n",
              "  </style>\n",
              "\n",
              "      <script>\n",
              "        const buttonEl =\n",
              "          document.querySelector('#df-88eb61bf-426e-4841-861b-71bf294bde8c button.colab-df-convert');\n",
              "        buttonEl.style.display =\n",
              "          google.colab.kernel.accessAllowed ? 'block' : 'none';\n",
              "\n",
              "        async function convertToInteractive(key) {\n",
              "          const element = document.querySelector('#df-88eb61bf-426e-4841-861b-71bf294bde8c');\n",
              "          const dataTable =\n",
              "            await google.colab.kernel.invokeFunction('convertToInteractive',\n",
              "                                                     [key], {});\n",
              "          if (!dataTable) return;\n",
              "\n",
              "          const docLinkHtml = 'Like what you see? Visit the ' +\n",
              "            '<a target=\"_blank\" href=https://colab.research.google.com/notebooks/data_table.ipynb>data table notebook</a>'\n",
              "            + ' to learn more about interactive tables.';\n",
              "          element.innerHTML = '';\n",
              "          dataTable['output_type'] = 'display_data';\n",
              "          await google.colab.output.renderOutput(dataTable, element);\n",
              "          const docLink = document.createElement('div');\n",
              "          docLink.innerHTML = docLinkHtml;\n",
              "          element.appendChild(docLink);\n",
              "        }\n",
              "      </script>\n",
              "    </div>\n",
              "  </div>\n",
              "  "
            ]
          },
          "metadata": {},
          "execution_count": 33
        }
      ]
    },
    {
      "cell_type": "code",
      "source": [
        "#transformarea coloanei type de tip string in coloana label de tip integer\n",
        "from sklearn.preprocessing import OneHotEncoder\n",
        "encoder = OneHotEncoder(drop='first')\n",
        "encoded_type = encoder.fit_transform(df[['type']]).toarray()\n",
        "df[['label']] = encoded_type"
      ],
      "metadata": {
        "id": "KcpVGISaeVLK"
      },
      "execution_count": 34,
      "outputs": []
    },
    {
      "cell_type": "code",
      "source": [
        "#stergerea randurilor care contin null\n",
        "df = df.dropna()"
      ],
      "metadata": {
        "id": "sr3Ga-b9YYwW"
      },
      "execution_count": 35,
      "outputs": []
    },
    {
      "cell_type": "code",
      "source": [
        "#Impartirea datelor in features si label\n",
        "y= df['label']\n",
        "x= df.drop(['type','label'],axis =1)"
      ],
      "metadata": {
        "id": "STWhP1B_fjmG"
      },
      "execution_count": 36,
      "outputs": []
    },
    {
      "cell_type": "code",
      "source": [
        "#Impartirea datelor in training si test\n",
        "from sklearn.model_selection import train_test_split\n",
        "X_train, X_test, y_train, y_test = train_test_split(x, y, test_size=0.2)"
      ],
      "metadata": {
        "id": "f8x6cts1h8YE"
      },
      "execution_count": 37,
      "outputs": []
    },
    {
      "cell_type": "code",
      "source": [
        "#Scalarea datelor\n",
        "from sklearn.preprocessing import MinMaxScaler\n",
        "scaler =  MinMaxScaler()\n",
        "X_train = scaler.fit_transform(X_train)\n",
        "X_test = scaler.transform(X_test)"
      ],
      "metadata": {
        "id": "LFe05EUhhVPe"
      },
      "execution_count": 38,
      "outputs": []
    },
    {
      "cell_type": "code",
      "source": [
        "import tensorflow as tf\n",
        "from tensorflow.keras.models import Sequential\n",
        "from tensorflow.keras.layers import Dense\n"
      ],
      "metadata": {
        "id": "k5sRafyziGzK"
      },
      "execution_count": 39,
      "outputs": []
    },
    {
      "cell_type": "code",
      "source": [
        "# Construirea unei retele neuronale complet conectata\n",
        "model = Sequential()\n",
        "model.add(Dense(12, activation='relu',input_shape=(12,) ))\n",
        "model.add(Dense(24, activation='relu'))\n",
        "model.add(Dense(1, activation='sigmoid'))"
      ],
      "metadata": {
        "id": "ge5bPUVLUcVL"
      },
      "execution_count": 40,
      "outputs": []
    },
    {
      "cell_type": "code",
      "source": [
        "model.compile(optimizer = 'adam', loss = 'binary_crossentropy', metrics = ['accuracy'])"
      ],
      "metadata": {
        "id": "B3E6NvAUVCGX"
      },
      "execution_count": 41,
      "outputs": []
    },
    {
      "cell_type": "code",
      "source": [
        "#Antrenarea modelului\n",
        "history = model.fit(x=X_train, \n",
        "                   y=y_train, \n",
        "                   epochs=50,\n",
        "                   validation_data=(X_test, y_test), \n",
        "                   verbose=1,batch_size=128)"
      ],
      "metadata": {
        "colab": {
          "base_uri": "https://localhost:8080/"
        },
        "id": "cYYE4LLiVTwR",
        "outputId": "7c94b7d0-ae4b-4dab-8937-b5153443be6c"
      },
      "execution_count": 42,
      "outputs": [
        {
          "output_type": "stream",
          "name": "stdout",
          "text": [
            "Epoch 1/50\n",
            "41/41 [==============================] - 1s 7ms/step - loss: 0.6432 - accuracy: 0.7182 - val_loss: 0.5818 - val_accuracy: 0.7626\n",
            "Epoch 2/50\n",
            "41/41 [==============================] - 0s 2ms/step - loss: 0.5562 - accuracy: 0.7513 - val_loss: 0.5068 - val_accuracy: 0.7626\n",
            "Epoch 3/50\n",
            "41/41 [==============================] - 0s 3ms/step - loss: 0.4812 - accuracy: 0.7513 - val_loss: 0.4276 - val_accuracy: 0.7626\n",
            "Epoch 4/50\n",
            "41/41 [==============================] - 0s 2ms/step - loss: 0.3847 - accuracy: 0.7874 - val_loss: 0.3240 - val_accuracy: 0.8693\n",
            "Epoch 5/50\n",
            "41/41 [==============================] - 0s 3ms/step - loss: 0.2738 - accuracy: 0.9203 - val_loss: 0.2256 - val_accuracy: 0.9412\n",
            "Epoch 6/50\n",
            "41/41 [==============================] - 0s 3ms/step - loss: 0.1853 - accuracy: 0.9658 - val_loss: 0.1610 - val_accuracy: 0.9706\n",
            "Epoch 7/50\n",
            "41/41 [==============================] - 0s 3ms/step - loss: 0.1320 - accuracy: 0.9787 - val_loss: 0.1247 - val_accuracy: 0.9760\n",
            "Epoch 8/50\n",
            "41/41 [==============================] - 0s 3ms/step - loss: 0.1012 - accuracy: 0.9832 - val_loss: 0.1033 - val_accuracy: 0.9791\n",
            "Epoch 9/50\n",
            "41/41 [==============================] - 0s 3ms/step - loss: 0.0826 - accuracy: 0.9853 - val_loss: 0.0907 - val_accuracy: 0.9799\n",
            "Epoch 10/50\n",
            "41/41 [==============================] - 0s 3ms/step - loss: 0.0711 - accuracy: 0.9878 - val_loss: 0.0829 - val_accuracy: 0.9807\n",
            "Epoch 11/50\n",
            "41/41 [==============================] - 0s 3ms/step - loss: 0.0636 - accuracy: 0.9868 - val_loss: 0.0789 - val_accuracy: 0.9807\n",
            "Epoch 12/50\n",
            "41/41 [==============================] - 0s 2ms/step - loss: 0.0583 - accuracy: 0.9884 - val_loss: 0.0730 - val_accuracy: 0.9814\n",
            "Epoch 13/50\n",
            "41/41 [==============================] - 0s 3ms/step - loss: 0.0541 - accuracy: 0.9888 - val_loss: 0.0703 - val_accuracy: 0.9822\n",
            "Epoch 14/50\n",
            "41/41 [==============================] - 0s 2ms/step - loss: 0.0512 - accuracy: 0.9896 - val_loss: 0.0675 - val_accuracy: 0.9830\n",
            "Epoch 15/50\n",
            "41/41 [==============================] - 0s 3ms/step - loss: 0.0486 - accuracy: 0.9896 - val_loss: 0.0666 - val_accuracy: 0.9830\n",
            "Epoch 16/50\n",
            "41/41 [==============================] - 0s 2ms/step - loss: 0.0465 - accuracy: 0.9901 - val_loss: 0.0645 - val_accuracy: 0.9830\n",
            "Epoch 17/50\n",
            "41/41 [==============================] - 0s 3ms/step - loss: 0.0449 - accuracy: 0.9899 - val_loss: 0.0628 - val_accuracy: 0.9830\n",
            "Epoch 18/50\n",
            "41/41 [==============================] - 0s 3ms/step - loss: 0.0436 - accuracy: 0.9905 - val_loss: 0.0619 - val_accuracy: 0.9838\n",
            "Epoch 19/50\n",
            "41/41 [==============================] - 0s 3ms/step - loss: 0.0423 - accuracy: 0.9907 - val_loss: 0.0615 - val_accuracy: 0.9838\n",
            "Epoch 20/50\n",
            "41/41 [==============================] - 0s 3ms/step - loss: 0.0422 - accuracy: 0.9913 - val_loss: 0.0605 - val_accuracy: 0.9861\n",
            "Epoch 21/50\n",
            "41/41 [==============================] - 0s 3ms/step - loss: 0.0406 - accuracy: 0.9913 - val_loss: 0.0598 - val_accuracy: 0.9869\n",
            "Epoch 22/50\n",
            "41/41 [==============================] - 0s 3ms/step - loss: 0.0401 - accuracy: 0.9915 - val_loss: 0.0593 - val_accuracy: 0.9853\n",
            "Epoch 23/50\n",
            "41/41 [==============================] - 0s 2ms/step - loss: 0.0394 - accuracy: 0.9915 - val_loss: 0.0587 - val_accuracy: 0.9861\n",
            "Epoch 24/50\n",
            "41/41 [==============================] - 0s 3ms/step - loss: 0.0389 - accuracy: 0.9915 - val_loss: 0.0583 - val_accuracy: 0.9869\n",
            "Epoch 25/50\n",
            "41/41 [==============================] - 0s 2ms/step - loss: 0.0383 - accuracy: 0.9923 - val_loss: 0.0581 - val_accuracy: 0.9876\n",
            "Epoch 26/50\n",
            "41/41 [==============================] - 0s 3ms/step - loss: 0.0379 - accuracy: 0.9925 - val_loss: 0.0575 - val_accuracy: 0.9884\n",
            "Epoch 27/50\n",
            "41/41 [==============================] - 0s 2ms/step - loss: 0.0375 - accuracy: 0.9923 - val_loss: 0.0572 - val_accuracy: 0.9869\n",
            "Epoch 28/50\n",
            "41/41 [==============================] - 0s 2ms/step - loss: 0.0371 - accuracy: 0.9925 - val_loss: 0.0570 - val_accuracy: 0.9884\n",
            "Epoch 29/50\n",
            "41/41 [==============================] - 0s 2ms/step - loss: 0.0369 - accuracy: 0.9923 - val_loss: 0.0564 - val_accuracy: 0.9884\n",
            "Epoch 30/50\n",
            "41/41 [==============================] - 0s 2ms/step - loss: 0.0368 - accuracy: 0.9925 - val_loss: 0.0562 - val_accuracy: 0.9884\n",
            "Epoch 31/50\n",
            "41/41 [==============================] - 0s 3ms/step - loss: 0.0363 - accuracy: 0.9923 - val_loss: 0.0559 - val_accuracy: 0.9884\n",
            "Epoch 32/50\n",
            "41/41 [==============================] - 0s 2ms/step - loss: 0.0361 - accuracy: 0.9921 - val_loss: 0.0563 - val_accuracy: 0.9876\n",
            "Epoch 33/50\n",
            "41/41 [==============================] - 0s 3ms/step - loss: 0.0364 - accuracy: 0.9925 - val_loss: 0.0557 - val_accuracy: 0.9884\n",
            "Epoch 34/50\n",
            "41/41 [==============================] - 0s 3ms/step - loss: 0.0357 - accuracy: 0.9923 - val_loss: 0.0552 - val_accuracy: 0.9884\n",
            "Epoch 35/50\n",
            "41/41 [==============================] - 0s 3ms/step - loss: 0.0352 - accuracy: 0.9925 - val_loss: 0.0554 - val_accuracy: 0.9876\n",
            "Epoch 36/50\n",
            "41/41 [==============================] - 0s 3ms/step - loss: 0.0355 - accuracy: 0.9928 - val_loss: 0.0559 - val_accuracy: 0.9876\n",
            "Epoch 37/50\n",
            "41/41 [==============================] - 0s 3ms/step - loss: 0.0355 - accuracy: 0.9925 - val_loss: 0.0548 - val_accuracy: 0.9876\n",
            "Epoch 38/50\n",
            "41/41 [==============================] - 0s 2ms/step - loss: 0.0350 - accuracy: 0.9925 - val_loss: 0.0541 - val_accuracy: 0.9876\n",
            "Epoch 39/50\n",
            "41/41 [==============================] - 0s 2ms/step - loss: 0.0346 - accuracy: 0.9930 - val_loss: 0.0540 - val_accuracy: 0.9869\n",
            "Epoch 40/50\n",
            "41/41 [==============================] - 0s 3ms/step - loss: 0.0342 - accuracy: 0.9926 - val_loss: 0.0541 - val_accuracy: 0.9884\n",
            "Epoch 41/50\n",
            "41/41 [==============================] - 0s 3ms/step - loss: 0.0343 - accuracy: 0.9923 - val_loss: 0.0536 - val_accuracy: 0.9884\n",
            "Epoch 42/50\n",
            "41/41 [==============================] - 0s 3ms/step - loss: 0.0339 - accuracy: 0.9926 - val_loss: 0.0534 - val_accuracy: 0.9876\n",
            "Epoch 43/50\n",
            "41/41 [==============================] - 0s 3ms/step - loss: 0.0338 - accuracy: 0.9926 - val_loss: 0.0533 - val_accuracy: 0.9884\n",
            "Epoch 44/50\n",
            "41/41 [==============================] - 0s 3ms/step - loss: 0.0337 - accuracy: 0.9925 - val_loss: 0.0531 - val_accuracy: 0.9884\n",
            "Epoch 45/50\n",
            "41/41 [==============================] - 0s 3ms/step - loss: 0.0341 - accuracy: 0.9919 - val_loss: 0.0551 - val_accuracy: 0.9899\n",
            "Epoch 46/50\n",
            "41/41 [==============================] - 0s 3ms/step - loss: 0.0335 - accuracy: 0.9926 - val_loss: 0.0531 - val_accuracy: 0.9884\n",
            "Epoch 47/50\n",
            "41/41 [==============================] - 0s 3ms/step - loss: 0.0335 - accuracy: 0.9923 - val_loss: 0.0526 - val_accuracy: 0.9899\n",
            "Epoch 48/50\n",
            "41/41 [==============================] - 0s 2ms/step - loss: 0.0331 - accuracy: 0.9934 - val_loss: 0.0529 - val_accuracy: 0.9899\n",
            "Epoch 49/50\n",
            "41/41 [==============================] - 0s 2ms/step - loss: 0.0330 - accuracy: 0.9930 - val_loss: 0.0528 - val_accuracy: 0.9884\n",
            "Epoch 50/50\n",
            "41/41 [==============================] - 0s 2ms/step - loss: 0.0327 - accuracy: 0.9928 - val_loss: 0.0529 - val_accuracy: 0.9884\n"
          ]
        }
      ]
    },
    {
      "cell_type": "code",
      "source": [
        "#Calcularea predictiilor si \n",
        "y_pred = model.predict(X_test) > 0.5\n",
        "y_pred = y_pred.astype(np.int32)"
      ],
      "metadata": {
        "id": "edmJkmMMWQzN"
      },
      "execution_count": 43,
      "outputs": []
    },
    {
      "cell_type": "code",
      "source": [
        "#Matricea de confuzie\n",
        "from sklearn.metrics import confusion_matrix\n",
        "confusion_matrix(y_test, y_pred)"
      ],
      "metadata": {
        "colab": {
          "base_uri": "https://localhost:8080/"
        },
        "id": "0kcDD-9vWVxx",
        "outputId": "004106b2-d69c-491c-f711-db8e88e53486"
      },
      "execution_count": 44,
      "outputs": [
        {
          "output_type": "execute_result",
          "data": {
            "text/plain": [
              "array([[301,   6],\n",
              "       [  9, 977]])"
            ]
          },
          "metadata": {},
          "execution_count": 44
        }
      ]
    },
    {
      "cell_type": "code",
      "source": [
        "#Evaluarea modelului folosind datele de tes\n",
        "model.evaluate(X_test, y_test)"
      ],
      "metadata": {
        "colab": {
          "base_uri": "https://localhost:8080/"
        },
        "id": "WKKi_7ZMWbH_",
        "outputId": "93b71f1e-7232-42f9-d438-bcb592d03ba9"
      },
      "execution_count": 45,
      "outputs": [
        {
          "output_type": "stream",
          "name": "stdout",
          "text": [
            "41/41 [==============================] - 0s 2ms/step - loss: 0.0529 - accuracy: 0.9884\n"
          ]
        },
        {
          "output_type": "execute_result",
          "data": {
            "text/plain": [
              "[0.052926987409591675, 0.988399088382721]"
            ]
          },
          "metadata": {},
          "execution_count": 45
        }
      ]
    }
  ]
}